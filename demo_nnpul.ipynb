{
 "cells": [
  {
   "cell_type": "markdown",
   "source": [
    "## Demo\n",
    "This notebook is a demonstration of Non-Negative Positive Unlabeled Learning."
   ],
   "metadata": {
    "collapsed": false,
    "pycharm": {
     "name": "#%% md\n"
    }
   }
  },
  {
   "cell_type": "code",
   "execution_count": null,
   "outputs": [],
   "source": [
    "import os\n",
    "import pprint\n",
    "\n",
    "import matplotlib.pyplot as plt\n",
    "import numpy as np\n",
    "import seaborn as sns\n",
    "import torch\n",
    "from dotenv import load_dotenv\n",
    "from sagemaker.pytorch import PyTorch\n",
    "from sklearn.manifold import TSNE\n",
    "from torch.utils.data import DataLoader\n",
    "from torchvision import datasets\n",
    "from torchvision import transforms\n",
    "\n",
    "from src.models import models\n",
    "from src.trainer import execute_exp\n",
    "from src.utils import config\n",
    "from src.utils import visualizer\n",
    "\n",
    "load_dotenv()"
   ],
   "metadata": {
    "collapsed": false
   }
  },
  {
   "cell_type": "markdown",
   "source": [
    "## Load config. file in this experiment"
   ],
   "metadata": {
    "collapsed": false
   }
  },
  {
   "cell_type": "code",
   "execution_count": null,
   "outputs": [],
   "source": [
    "config_file = \"./config/config.toml\"\n",
    "args = config.ConfigurationParser(config_file)\n",
    "\n",
    "pprint.pprint(vars(args))"
   ],
   "metadata": {
    "collapsed": false,
    "pycharm": {
     "name": "#%%\n"
    }
   }
  },
  {
   "cell_type": "markdown",
   "source": [
    "## Training and Evaluation.\n",
    "The following code is executed training and evaluation"
   ],
   "metadata": {
    "collapsed": false,
    "pycharm": {
     "name": "#%% md\n"
    }
   }
  },
  {
   "cell_type": "code",
   "execution_count": null,
   "outputs": [],
   "source": [
    "train_history_df, valid_history_df = execute_exp.repeated_trials(args=args, iteration=1)"
   ],
   "metadata": {
    "collapsed": false,
    "pycharm": {
     "name": "#%%\n"
    }
   }
  },
  {
   "cell_type": "markdown",
   "source": [
    "### Run experiment on SageMaker Training Jobs"
   ],
   "metadata": {
    "collapsed": false
   }
  },
  {
   "cell_type": "code",
   "execution_count": null,
   "outputs": [],
   "source": [
    "if args.use_sagemaker_training:\n",
    "    base_job_name = str(os.environ['REPOSITORY_NAME'].split('/')[-1])\n",
    "    print(base_job_name)\n",
    "\n",
    "    estimator = PyTorch(\n",
    "        source_dir=\"src\",\n",
    "        entry_point=\"main.py\",\n",
    "        dependencies=[\"src\", \"config\", \"outputs\"],\n",
    "        base_job_name=base_job_name,\n",
    "        instance_type=\"ml.g4dn.xlarge\",\n",
    "        instance_count=1,\n",
    "        checkpoint_s3_uri=f\"s3://{os.environ['BUCKET_NAME']}/{base_job_name}/\",\n",
    "        # checkpoint_local_path=\"/app/outputs/models\",\n",
    "        image_uri=f\"{os.environ['AWS_ACCOUNT_ID']}.dkr.ecr.{os.environ['AWS_REGION']}.amazonaws.com/{os.environ['REPOSITORY_NAME']}\",\n",
    "        role=f\"arn:aws:iam::{os.environ['AWS_ACCOUNT_ID']}:role/{os.environ['SAGEMAKER_EXEC_ROLE_NAME']}\",\n",
    "        output_path=f\"s3://{os.environ['BUCKET_NAME']}\",\n",
    "    )\n",
    "    estimator.fit()"
   ],
   "metadata": {
    "collapsed": false
   }
  },
  {
   "cell_type": "markdown",
   "source": [
    "## Visualizing Training and Evaluation History\n",
    "\n",
    "The following code show that the shift of each indicator (i.e. loss values, risk values and accuracy) on training and evaluation."
   ],
   "metadata": {
    "collapsed": false,
    "pycharm": {
     "name": "#%% md\n"
    }
   }
  },
  {
   "cell_type": "code",
   "execution_count": null,
   "outputs": [],
   "source": [
    "results = (train_history_df, valid_history_df)\n",
    "visualizer.plot_history(results=results)"
   ],
   "metadata": {
    "collapsed": false,
    "pycharm": {
     "name": "#%%\n"
    }
   }
  },
  {
   "cell_type": "markdown",
   "source": [
    "Visualizing inference using t-SNE"
   ],
   "metadata": {
    "collapsed": false,
    "pycharm": {
     "name": "#%% md\n"
    }
   }
  },
  {
   "cell_type": "code",
   "execution_count": null,
   "outputs": [],
   "source": [
    "model = models.PositiveUnlabeledModel(\n",
    "    in_features=args.in_features,\n",
    "    hide_features=args.hide_features,\n",
    "    out_features=args.out_features\n",
    ")\n",
    "model.load(model_save_dir=\"./outputs/models\")\n",
    "model.eval()\n",
    "\n",
    "transform = transforms.Compose([\n",
    "    transforms.ToTensor(),\n",
    "    transforms.Normalize((0.1307,), (0.3081,))\n",
    "])\n",
    "valid_dataset = datasets.PositiveUnlabeledMNIST(train=False, transform=transform)\n",
    "valid_dataloader = DataLoader(valid_dataset, batch_size=64, shuffle=False)\n",
    "\n",
    "predicts = np.array([])\n",
    "with torch.no_grad():\n",
    "    for idx, (feature, targets) in enumerate(valid_dataloader):\n",
    "        output = model(feature)\n",
    "        output = torch.where(output < 0, -1, 1)\n",
    "        predict = output.view_as(targets).type(torch.float).numpy()\n",
    "        predicts = np.concatenate([predicts, predict], axis=-1)\n",
    "\n",
    "feature = valid_dataset.feature.numpy().reshape(10000, -1)\n",
    "targets = valid_dataset.targets.numpy()\n",
    "\n",
    "tsne = TSNE(n_components=2, random_state=42, init=\"pca\", learning_rate=\"auto\")\n",
    "feature_reduced = tsne.fit_transform(feature)\n",
    "\n",
    "# show scatter plot\n",
    "sns.set(style=\"darkgrid\")\n",
    "sns.set_palette(\"bright\")\n",
    "plt.figure(figsize=(16, 8))\n",
    "setting = {\n",
    "    \"target\": [-1, 1],\n",
    "    \"label\": [\"unlabeled\", \"positive\"],\n",
    "    \"title\": [\"Actual\", \"Predict\"],\n",
    "    \"color\": [\"#52FFB8\", \"#3626A7\"]\n",
    "}\n",
    "\n",
    "plt.figure(figsize=(16, 8))\n",
    "for idx in range(2):\n",
    "    actual_indices = (targets == setting[\"target\"][idx])\n",
    "    predict_indices = (predicts == setting[\"target\"][idx])\n",
    "    feature_actual = feature_reduced[actual_indices]\n",
    "    feature_predict = feature_reduced[predict_indices]\n",
    "    arrays = (feature_actual, feature_predict)\n",
    "\n",
    "    for col, array in enumerate(arrays):\n",
    "        plt.subplot(1, 2, col + 1)\n",
    "        plt.scatter(\n",
    "            x=array[:, 0],\n",
    "            y=array[:, 1],\n",
    "            color=setting[\"color\"][idx],\n",
    "            edgecolors=\"white\",\n",
    "            s=50,\n",
    "            alpha=0.75,\n",
    "            label=setting[\"label\"][idx]\n",
    "        )\n",
    "        plt.legend()\n",
    "        plt.gca().set_title(setting[\"title\"][col])\n",
    "plt.show()"
   ],
   "metadata": {
    "collapsed": false,
    "pycharm": {
     "name": "#%%\n"
    }
   }
  },
  {
   "cell_type": "code",
   "execution_count": null,
   "outputs": [],
   "source": [],
   "metadata": {
    "collapsed": false
   }
  }
 ],
 "metadata": {
  "kernelspec": {
   "display_name": "Python 3",
   "language": "python",
   "name": "python3"
  },
  "language_info": {
   "codemirror_mode": {
    "name": "ipython",
    "version": 2
   },
   "file_extension": ".py",
   "mimetype": "text/x-python",
   "name": "python",
   "nbconvert_exporter": "python",
   "pygments_lexer": "ipython2",
   "version": "2.7.6"
  }
 },
 "nbformat": 4,
 "nbformat_minor": 0
}
